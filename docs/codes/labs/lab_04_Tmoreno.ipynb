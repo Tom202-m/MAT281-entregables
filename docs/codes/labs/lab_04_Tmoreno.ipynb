{
  "cells": [
    {
      "cell_type": "markdown",
      "id": "64fe4451",
      "metadata": {
        "id": "64fe4451"
      },
      "source": [
        "<a href=\"https://colab.research.google.com/github/fralfaro/MAT281/blob/main/docs/labs/lab_04.ipynb\" target=\"_parent\"><img src=\"https://colab.research.google.com/assets/colab-badge.svg\" alt=\"Open In Colab\"/></a>\n",
        "\n",
        "# MAT281 - Laboratorio N°04\n"
      ]
    },
    {
      "cell_type": "markdown",
      "id": "27b10378",
      "metadata": {
        "id": "27b10378"
      },
      "source": [
        "**Objetivo**: Aplicar técnicas intermedias y avanzadas de análisis de datos con pandas utilizando un caso real: el Índice de Libertad de Prensa. Este laboratorio incluye operaciones de limpieza, transformación, combinación de datos, y análisis exploratorio usando `merge`, `groupby`, `concat` y otras funciones fundamentales.\n"
      ]
    },
    {
      "cell_type": "markdown",
      "id": "63a15921",
      "metadata": {
        "id": "63a15921"
      },
      "source": [
        "\n",
        "\n",
        "**Descripción del Dataset**\n",
        "\n",
        "El presente conjunto de datos está orientado al análisis del **Índice de Libertad de Prensa**, una métrica internacional que evalúa el nivel de libertad del que gozan periodistas y medios de comunicación en distintos países. Este índice es recopilado anualmente por la organización **Reporteros sin Fronteras**.\n",
        "\n",
        "La base de datos contempla observaciones por país y año, e incluye tanto el valor del índice como el ranking correspondiente. A menor puntaje en el índice, mayor nivel de libertad de prensa.\n",
        "\n",
        "**Diccionario de variables**\n",
        "\n",
        "| Variable     | Clase    | Descripción                                                                          |\n",
        "| ------------ | -------- | ------------------------------------------------------------------------------------ |\n",
        "| `codigo_iso` | carácter | Código ISO 3166-1 alfa-3 que representa a cada país.                                 |\n",
        "| `pais`       | carácter | Nombre oficial del país.                                                             |\n",
        "| `anio`       | entero   | Año en que se registró la medición del índice.                                       |\n",
        "| `indice`     | numérico | Valor numérico del Índice de Libertad de Prensa (menor valor indica mayor libertad). |\n",
        "| `ranking`    | entero   | Posición relativa del país en el ranking mundial de libertad de prensa.              |\n",
        "\n",
        "\n",
        "**Fuente original y adaptación pedagógica**\n",
        "\n",
        "* **Fuente original**: [Reporteros sin Fronteras](https://www.rsf-es.org/), recopilado y publicado a través del portal del [Banco Mundial](https://tcdata360.worldbank.org/indicators/h3f86901f?country=BRA&indicator=32416&viz=line_chart&years=2001,2019).\n",
        "* **Adaptación educativa**: Los archivos han sido modificados intencionalmente para incorporar desafíos técnicos que permiten aplicar los contenidos abordados en clases, tales como limpieza de datos, normalización, detección de duplicados, y combinación de fuentes.\n",
        "\n",
        "\n",
        "**Descripción de los archivos disponibles**\n",
        "\n",
        "* **`libertad_prensa_codigo.csv`**: Contiene los pares `codigo_iso` y `pais`. Incluye intencionalmente un código ISO con dos nombres distintos de país para efectos de limpieza y validación de datos.\n",
        "\n",
        "* **`libertad_prensa_01.csv`**: Contiene registros de los años **anteriores a 2010**. Incluye las variables `PAIS`, `ANIO`, `INDICE`, y `RANKING` con nombres de columna en **mayúsculas**.\n",
        "\n",
        "* **`libertad_prensa_02.csv`**: Contiene registros de los años **desde 2010 en adelante**. Estructura similar al archivo anterior, con nombres de columna también en **mayúsculas**.\n",
        "\n",
        "\n",
        "\n"
      ]
    },
    {
      "cell_type": "code",
      "execution_count": 1,
      "id": "28a58320",
      "metadata": {
        "id": "28a58320"
      },
      "outputs": [],
      "source": [
        "import numpy as np\n",
        "import pandas as pd\n",
        "\n",
        "# lectura de datos\n",
        "archivos_anio = [\n",
        "    'https://raw.githubusercontent.com/fralfaro/MAT281/main/docs/labs/data/libertad_prensa_01.csv',\n",
        "    'https://raw.githubusercontent.com/fralfaro/MAT281/main/docs/labs/data/libertad_prensa_02.csv'\n",
        " ]\n",
        "df_codigos = pd.read_csv('https://raw.githubusercontent.com/fralfaro/MAT281/main/docs/labs/data/libertad_prensa_codigo.csv')"
      ]
    },
    {
      "cell_type": "markdown",
      "id": "0894056d",
      "metadata": {
        "id": "0894056d"
      },
      "source": [
        "\n",
        "\n",
        "### 1. Consolidación y limpieza de datos\n",
        "\n",
        "A partir de los archivos disponibles, realice los siguientes pasos:\n",
        "\n",
        "**a)** Cree un DataFrame llamado `df_anio` que consolide la información proveniente de los archivos **`libertad_prensa_01.csv`** y **`libertad_prensa_02.csv`**, correspondientes a distintas ventanas de tiempo. Recuerde que ambos archivos tienen nombres de columnas en mayúscula, por lo que debe normalizarlas a **minúscula** para asegurar consistencia.\n",
        "\n",
        "**b)** Explore el archivo **`libertad_prensa_codigo.csv`** e identifique el código ISO que aparece asociado a dos nombres de país distintos. Elimine el registro que corresponda a un valor incorrecto o inconsistente, conservando solo el que considere válido.\n",
        "\n",
        "**c)** Una vez preparados los archivos, cree un nuevo DataFrame llamado `df` que combine `df_anio` con `df_codigos`, utilizando la columna `codigo_iso` como clave. Asegúrese de realizar una unión que conserve únicamente los registros que tengan coincidencia en ambas fuentes.\n",
        "\n",
        "> **Sugerencia**:\n",
        ">\n",
        "> * Para unir los archivos por filas (años), utilice la función `pd.concat([...])`.\n",
        "> * Para combinar información por columnas (variables), utilice `pd.merge(...)` especificando `on='codigo_iso'`.\n",
        "\n"
      ]
    },
    {
      "cell_type": "code",
      "execution_count": 20,
      "id": "cfd268a0",
      "metadata": {
        "id": "cfd268a0",
        "outputId": "c295b00c-cd48-47f4-e2f4-e2342014b944",
        "colab": {
          "base_uri": "https://localhost:8080/"
        }
      },
      "outputs": [
        {
          "output_type": "stream",
          "name": "stdout",
          "text": [
            "    codigo_iso      pais\n",
            "179        ZWE  Zimbabue\n",
            "180        ZWE      malo\n"
          ]
        }
      ],
      "source": [
        "# FIXME\n",
        "lista_df = []\n",
        "for archivo in archivos_anio:\n",
        "    temp = pd.read_csv(archivo)\n",
        "    temp.columns = temp.columns.str.lower()   # pasar columnas a minúscula\n",
        "    lista_df.append(temp)\n",
        "\n",
        "df_anio = pd.concat(lista_df, ignore_index=True)\n",
        "df_cod = pd.read_csv(\n",
        "    'https://raw.githubusercontent.com/fralfaro/MAT281/main/docs/labs/data/libertad_prensa_codigo.csv'\n",
        ")\n",
        "df_cod.columns = df_cod.columns.str.lower()\n",
        "dupli = df_cod[df_cod.duplicated(\"codigo_iso\", keep=False)]\n",
        "print(dupli)\n",
        "df_cod = df_cod.drop(df_cod[df_cod[\"pais\"] == \"Zimbawe\"].index)\n",
        "df = pd.merge(df_anio, df_codigos, on=\"codigo_iso\", how=\"inner\")"
      ]
    },
    {
      "cell_type": "markdown",
      "id": "282e8301",
      "metadata": {
        "id": "282e8301"
      },
      "source": [
        "\n",
        "\n",
        "### 2. Exploración inicial del conjunto de datos\n",
        "\n",
        "Una vez que hayas consolidado el DataFrame final `df`, realiza un análisis exploratorio básico respondiendo las siguientes preguntas:\n",
        "\n",
        "#### **Estructura del DataFrame**\n",
        "\n",
        "* ¿Cuántas **filas (observaciones)** contiene el conjunto de datos?\n",
        "* ¿Cuántas **columnas** tiene el DataFrame?\n",
        "* ¿Cuáles son los **nombres de las columnas**?\n",
        "* ¿Qué **tipo de datos** tiene cada columna?\n",
        "* ¿Hay columnas con un tipo de dato inesperado (por ejemplo, fechas como strings)?\n",
        "\n",
        "#### **Resumen estadístico**\n",
        "\n",
        "* Genera un resumen estadístico del conjunto de datos con `.describe()`.\n",
        "  ¿Qué observas sobre los valores de `indice` y `ranking`?\n",
        "* ¿Qué valores mínimo, máximo y promedio tiene la columna `indice`?\n",
        "* ¿Qué países presentan los valores extremos en `indice` y `ranking`?\n",
        "\n",
        "#### **Datos faltantes**\n",
        "\n",
        "* ¿Cuántos valores nulos hay en cada columna?\n",
        "* ¿Qué proporción de observaciones tienen valores faltantes?\n",
        "* ¿Hay columnas con más del 30% de datos faltantes?\n",
        "\n",
        "#### **Unicidad y duplicados**\n",
        "\n",
        "* ¿Cuántos países distintos (`pais`) hay en el DataFrame?\n",
        "* ¿Cuántos años distintos (`anio`) hay representados?\n",
        "* ¿Existen filas duplicadas (exactamente iguales)? ¿Cuántas?\n",
        "\n",
        "#### **Validación cruzada de columnas**\n",
        "\n",
        "* ¿Hay inconsistencias entre el país (`pais`) y su código (`codigo_iso`)?\n",
        "  (por ejemplo, un mismo código ISO asociado a más de un país)\n",
        "\n",
        "> **Sugerencia**: Apoya tu análisis con funciones como `.info()`, `.nunique()`, `.isnull().sum()`, `.duplicated()`, `.value_counts()`, entre otras.\n",
        "\n",
        "\n",
        "\n",
        "    "
      ]
    },
    {
      "cell_type": "code",
      "execution_count": 28,
      "id": "14369830",
      "metadata": {
        "id": "14369830",
        "outputId": "5815c780-15da-49a7-9a3f-fa8b6384dbc3",
        "colab": {
          "base_uri": "https://localhost:8080/"
        }
      },
      "outputs": [
        {
          "output_type": "stream",
          "name": "stdout",
          "text": [
            "========filas_y_columnas============\n",
            "filas y columnas\n",
            "(3077, 5)\n",
            "====================================\n",
            "Nombres de las columnas y tipos de datos\n",
            "<class 'pandas.core.frame.DataFrame'>\n",
            "RangeIndex: 3077 entries, 0 to 3076\n",
            "Data columns (total 5 columns):\n",
            " #   Column      Non-Null Count  Dtype  \n",
            "---  ------      --------------  -----  \n",
            " 0   codigo_iso  3077 non-null   object \n",
            " 1   anio        3077 non-null   int64  \n",
            " 2   indice      2680 non-null   float64\n",
            " 3   ranking     2854 non-null   float64\n",
            " 4   pais        3077 non-null   object \n",
            "dtypes: float64(2), int64(1), object(2)\n",
            "memory usage: 120.3+ KB\n",
            "None\n",
            "====================================\n",
            "cuantos datos son nulos\n",
            "codigo_iso      0\n",
            "anio            0\n",
            "indice        397\n",
            "ranking       223\n",
            "pais            0\n",
            "dtype: int64\n",
            "====================================\n",
            "Resumen estadístico:\n",
            "              anio        indice        ranking\n",
            "count  3077.000000   2680.000000    2854.000000\n",
            "mean   2009.941176    204.836847     475.715137\n",
            "std       5.786018   2687.491660    6455.679267\n",
            "min    2001.000000      0.000000       1.000000\n",
            "25%    2005.000000     15.490000      35.000000\n",
            "50%    2009.000000     28.150000      71.000000\n",
            "75%    2015.000000     41.447500     110.000000\n",
            "max    2019.000000  64536.000000  121056.000000\n",
            "====================================\n",
            "Índice - min, max, mean:\n",
            "Mínimo: 0.0\n",
            "Máximo: 64536.0\n",
            "Promedio: 204.83684701492538\n",
            "====================================\n",
            "País con índice máximo:\n",
            "pais            Kosovo\n",
            "codigo_iso         KSV\n",
            "indice         64536.0\n",
            "ranking       120614.0\n",
            "Name: 2080, dtype: object\n",
            "País con ranking mínimo:\n",
            "pais          Finlandia\n",
            "codigo_iso          FIN\n",
            "indice              0.5\n",
            "ranking             1.0\n",
            "Name: 53, dtype: object\n",
            "====================================\n",
            "Proporción de observaciones con al menos un valor nulo: 12.93 %\n",
            "====================================\n",
            "Número de países distintos: 180\n",
            "Número de años distintos: 17\n",
            "Número de filas duplicadas: 0\n",
            "\n",
            "Códigos ISO con más de un país asociado (incon):\n",
            "codigo_iso\n",
            "ZWE    2\n",
            "Name: pais, dtype: int64\n"
          ]
        }
      ],
      "source": [
        "# FIXME\n",
        "print(\"========filas_y_columnas============\")\n",
        "print(\"filas y columnas\")\n",
        "print(df.shape)\n",
        "print(\"====================================\")\n",
        "print(\"Nombres de las columnas y tipos de datos\")\n",
        "print(df.info())\n",
        "print(\"====================================\")\n",
        "print(\"cuantos datos son nulos\")\n",
        "print(df.isnull().sum())\n",
        "print(\"====================================\")\n",
        "print(\"Resumen estadístico:\")\n",
        "print(df.describe())\n",
        "print(\"====================================\")\n",
        "print(\"Índice - min, max, mean:\")\n",
        "print(\"Mínimo:\", df[\"indice\"].min())\n",
        "print(\"Máximo:\", df[\"indice\"].max())\n",
        "print(\"Promedio:\", df[\"indice\"].mean())\n",
        "print(\"====================================\")\n",
        "print(\"País con índice máximo:\")\n",
        "print(df.loc[df[\"indice\"].idxmax(), [\"pais\",\"codigo_iso\",\"indice\",\"ranking\"]])\n",
        "print(\"País con ranking mínimo:\")\n",
        "print(df.loc[df[\"ranking\"].idxmin(), [\"pais\",\"codigo_iso\",\"indice\",\"ranking\"]])\n",
        "print(\"====================================\")\n",
        "print(\"Proporción de observaciones con al menos un valor nulo:\", (df.isnull().any(axis=1).mean()*100).round(2), \"%\")\n",
        "print(\"====================================\")\n",
        "print(\"Número de países distintos:\", df[\"pais\"].nunique())\n",
        "print(\"Número de años distintos:\", df[\"anio\"].nunique())\n",
        "print(\"Número de filas duplicadas:\", df.duplicated().sum())\n",
        "print(\"====================================\")\n",
        "incon = df.groupby(\"codigo_iso\")[\"pais\"].nunique()\n",
        "incon = incon[incon > 1]\n",
        "print(\"\\nCódigos ISO con más de un país asociado (incon):\")\n",
        "print(incon)"
      ]
    },
    {
      "cell_type": "markdown",
      "id": "98efcc39",
      "metadata": {
        "id": "98efcc39"
      },
      "source": [
        "\n",
        "\n",
        "\n",
        "### 3. Comparación regional: países latinoamericanos\n",
        "\n",
        "En esta sección se busca identificar cuáles son los países de América Latina que han presentado los valores extremos del **Índice de Libertad de Prensa** en cada año observado.\n",
        "\n",
        "> Recuerda que un menor puntaje en `indice` implica mayor libertad de prensa.\n",
        "\n",
        "#### **Tareas:**\n",
        "\n",
        "**a)** Utilizando un ciclo `for`, recorre cada año del conjunto de datos filtrado por países latinoamericanos, y determina para cada año:\n",
        "\n",
        "* El país con el menor valor de `indice` (mayor libertad de prensa).\n",
        "* El país con el mayor valor de `indice` (menor libertad de prensa).\n",
        "\n",
        "**b)** Resuelve la misma tarea del punto anterior utilizando un enfoque vectorizado con `groupby`, sin usar ciclos explícitos.\n",
        "\n",
        "\n",
        "\n",
        "#### **Lista de países latinoamericanos considerada:**\n",
        "\n",
        "```python\n",
        "america = ['ARG', 'ATG', 'BLZ', 'BOL', 'BRA', 'CAN', 'CHL', 'COL', 'CRI',\n",
        "           'CUB', 'DOM', 'ECU', 'GRD', 'GTM', 'GUY', 'HND', 'HTI', 'JAM',\n",
        "           'MEX', 'NIC', 'PAN', 'PER', 'PRY', 'SLV', 'SUR', 'TTO', 'URY',\n",
        "           'USA', 'VEN']\n",
        "```\n",
        "\n",
        "> Puedes usar esta lista para filtrar el DataFrame final por la columna `codigo_iso`.\n",
        "\n"
      ]
    },
    {
      "cell_type": "code",
      "execution_count": 55,
      "id": "9077a9bc",
      "metadata": {
        "id": "9077a9bc",
        "outputId": "c9a03464-0cf3-43df-a534-655954bd6671",
        "colab": {
          "base_uri": "https://localhost:8080/"
        }
      },
      "outputs": [
        {
          "output_type": "stream",
          "name": "stdout",
          "text": [
            "================================================================\n",
            "Año 2001:\n",
            "   Mayor libertad (índice mínimo): Canadá (CAN) con 0.8\n",
            "   Menor libertad (índice máximo): Cuba (CUB) con 90.3\n",
            "================================================================\n",
            "Año 2002:\n",
            "   Mayor libertad (índice mínimo): Trinidad y Tobago (TTO) con 1.0\n",
            "   Menor libertad (índice máximo): Cuba (CUB) con 97.83\n",
            "================================================================\n",
            "Año 2003:\n",
            "   Mayor libertad (índice mínimo): Trinidad y Tobago (TTO) con 2.0\n",
            "   Menor libertad (índice máximo): Argentina (ARG) con 35826.0\n",
            "================================================================\n",
            "Año 2004:\n",
            "   Mayor libertad (índice mínimo): Trinidad y Tobago (TTO) con 2.0\n",
            "   Menor libertad (índice máximo): Cuba (CUB) con 87.0\n",
            "================================================================\n",
            "Año 2005:\n",
            "   Mayor libertad (índice mínimo): Bolivia (BOL) con 4.5\n",
            "   Menor libertad (índice máximo): Cuba (CUB) con 95.0\n",
            "================================================================\n",
            "Año 2006:\n",
            "   Mayor libertad (índice mínimo): Canadá (CAN) con 4.88\n",
            "   Menor libertad (índice máximo): Cuba (CUB) con 96.17\n",
            "================================================================\n",
            "Año 2007:\n",
            "   Mayor libertad (índice mínimo): Canadá (CAN) con 3.33\n",
            "   Menor libertad (índice máximo): Cuba (CUB) con 88.33\n",
            "================================================================\n",
            "Año 2008:\n",
            "   Mayor libertad (índice mínimo): Canadá (CAN) con 3.7\n",
            "   Menor libertad (índice máximo): Cuba (CUB) con 94.0\n",
            "================================================================\n",
            "Año 2009:\n",
            "   Mayor libertad (índice mínimo): Estados Unidos (USA) con 6.75\n",
            "   Menor libertad (índice máximo): Cuba (CUB) con 78.0\n",
            "================================================================\n",
            "Año 2012:\n",
            "   Mayor libertad (índice mínimo): Jamaica (JAM) con 9.88\n",
            "   Menor libertad (índice máximo): Cuba (CUB) con 71.64\n",
            "================================================================\n",
            "Año 2013:\n",
            "   Mayor libertad (índice mínimo): Jamaica (JAM) con 10.9\n",
            "   Menor libertad (índice máximo): Cuba (CUB) con 70.92\n",
            "================================================================\n",
            "Año 2014:\n",
            "   Mayor libertad (índice mínimo): Canadá (CAN) con 10.99\n",
            "   Menor libertad (índice máximo): Cuba (CUB) con 70.21\n",
            "================================================================\n",
            "Año 2015:\n",
            "   Mayor libertad (índice mínimo): Costa Rica (CRI) con 11.1\n",
            "   Menor libertad (índice máximo): Cuba (CUB) con 70.23\n",
            "================================================================\n",
            "Año 2016: sin datos válidos en 'indice'\n",
            "================================================================\n",
            "Año 2017:\n",
            "   Mayor libertad (índice mínimo): Costa Rica (CRI) con 11.93\n",
            "   Menor libertad (índice máximo): Cuba (CUB) con 71.75\n",
            "================================================================\n",
            "Año 2018:\n",
            "   Mayor libertad (índice mínimo): Jamaica (JAM) con 11.33\n",
            "   Menor libertad (índice máximo): Cuba (CUB) con 68.9\n",
            "================================================================\n",
            "Año 2019:\n",
            "   Mayor libertad (índice mínimo): Jamaica (JAM) con 11.13\n",
            "   Menor libertad (índice máximo): Cuba (CUB) con 63.81\n",
            "================================================================\n"
          ]
        }
      ],
      "source": [
        "# respuesta\n",
        "america = ['ARG', 'ATG', 'BLZ', 'BOL', 'BRA', 'CAN', 'CHL', 'COL', 'CRI',\n",
        "       'CUB', 'DOM', 'ECU', 'GRD', 'GTM', 'GUY', 'HND', 'HTI', 'JAM',\n",
        "       'MEX', 'NIC', 'PAN', 'PER', 'PRY', 'SLV', 'SUR', 'TTO', 'URY',\n",
        "       'USA', 'VEN']\n",
        "\n",
        "df_america = df[df[\"codigo_iso\"].isin(america)].copy()\n",
        "print(\"================================================================\")\n",
        "for anio in sorted(df_america[\"anio\"].unique()):\n",
        "    temp = df_america[df_america[\"anio\"] == anio]\n",
        "    if temp[\"indice\"].dropna().empty:\n",
        "        print(f\"Año {anio}: sin datos válidos en 'indice'\")\n",
        "        print(\"================================================================\")\n",
        "        continue\n",
        "    pais_min = temp.loc[temp[\"indice\"].idxmin(), [\"pais\",\"codigo_iso\",\"indice\"]]\n",
        "    pais_max = temp.loc[temp[\"indice\"].idxmax(), [\"pais\",\"codigo_iso\",\"indice\"]]\n",
        "    print(f\"Año {anio}:\")\n",
        "    print(f\"   Mayor libertad (índice mínimo): {pais_min.pais} ({pais_min.codigo_iso}) con {pais_min.indice}\")\n",
        "    print(f\"   Menor libertad (índice máximo): {pais_max.pais} ({pais_max.codigo_iso}) con {pais_max.indice}\")\n",
        "    print(\"================================================================\")"
      ]
    },
    {
      "cell_type": "markdown",
      "id": "91532f43",
      "metadata": {
        "id": "91532f43"
      },
      "source": [
        "### 4. Análisis anual del índice por país\n",
        "\n",
        "En esta sección se busca analizar la evolución del **índice máximo** de libertad de prensa alcanzado por cada país a lo largo del tiempo.\n",
        "\n",
        "#### **Tarea principal:**\n",
        "\n",
        "* Construye una tabla dinámica (`pivot_table`) donde las **filas** correspondan a los países, las **columnas** a los años (`anio`) y los **valores** sean el `indice` máximo alcanzado por cada país en ese año.\n",
        "* Asegúrate de reemplazar los valores nulos resultantes con `0`.\n",
        "\n",
        "> **Hint**: Puedes utilizar el parámetro `fill_value=0` en `pd.pivot_table(...)`.\n",
        "\n",
        "\n",
        "\n",
        "#### **Preguntas adicionales:**\n",
        "\n",
        "**a)** ¿Qué país tiene el mayor valor de `indice` en toda la tabla resultante? ¿Y cuál tiene el menor (distinto de cero)?\n",
        "**b)** ¿Qué años presentan en promedio los valores de `indice` más altos? ¿Y los más bajos?\n",
        "\n",
        "> (Pista: usa `.mean(axis=0)` sobre la tabla pivot)\n",
        "\n",
        "**c)** ¿Qué país muestra mayor **variabilidad** (diferencia entre su máximo y mínimo `indice` a lo largo del tiempo)?\n",
        "\n",
        "> (Pista: aplica `.max(axis=1) - .min(axis=1)`)\n",
        "\n",
        "**d)** ¿Existen países con índice constante a lo largo de todos los años registrados? ¿Cuáles?\n",
        "\n",
        "**e)** ¿Qué países no tienen ningún dato (es decir, quedaron con todos los valores igual a 0)? ¿Podrías explicar por qué?\n",
        "\n",
        "\n",
        "\n"
      ]
    },
    {
      "cell_type": "code",
      "execution_count": null,
      "id": "c844a0a8",
      "metadata": {
        "id": "c844a0a8"
      },
      "outputs": [],
      "source": [
        "# FIX ME"
      ]
    }
  ],
  "metadata": {
    "kernelspec": {
      "display_name": "Python 3 (ipykernel)",
      "language": "python",
      "name": "python3"
    },
    "language_info": {
      "codemirror_mode": {
        "name": "ipython",
        "version": 3
      },
      "file_extension": ".py",
      "mimetype": "text/x-python",
      "name": "python",
      "nbconvert_exporter": "python",
      "pygments_lexer": "ipython3",
      "version": "3.10.11"
    },
    "colab": {
      "provenance": []
    }
  },
  "nbformat": 4,
  "nbformat_minor": 5
}