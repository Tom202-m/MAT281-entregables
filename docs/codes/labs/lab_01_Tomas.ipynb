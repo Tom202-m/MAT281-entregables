{
 "cells": [
  {
   "cell_type": "markdown",
   "id": "e2696553",
   "metadata": {
    "id": "e2696553"
   },
   "source": [
    "<a href=\"https://colab.research.google.com/github/fralfaro/MAT281/blob/main/docs/labs/lab_01.ipynb\" target=\"_parent\"><img src=\"https://colab.research.google.com/assets/colab-badge.svg\" alt=\"Open In Colab\"/></a>\n",
    "\n",
    "\n",
    "# MAT281 - Laboratorio N°01\n",
    "\n",
    "\n",
    "**Objetivos del Laboratorio**\n",
    "\n",
    "* Implementar funciones en Python para resolver problemas matemáticos clásicos.\n",
    "* Aplicar estructuras básicas como ciclos y condicionales en contextos numéricos.\n",
    "* Comprender y programar conceptos como series, factoriales, divisores, primos y secuencias.\n",
    "* Desarrollar pensamiento algorítmico y habilidades de resolución estructurada de problemas.\n"
   ]
  },
  {
   "cell_type": "markdown",
   "id": "a869ace0",
   "metadata": {
    "id": "a869ace0"
   },
   "source": [
    "## Problema 01 — Aproximando $\\pi$ con una serie infinita\n",
    "\n",
    "En los siglos XVII y XVIII, los matemáticos **James Gregory** y **Gottfried Leibniz** descubrieron una serie infinita que permite aproximar el valor de $\\pi$. Esta serie, conocida como la *serie de Gregory-Leibniz*, se expresa como:\n",
    "\n",
    "$$\n",
    "\\pi = 4 \\sum_{k=1}^{\\infty} \\frac{(-1)^{k+1}}{2k - 1} = 4\\left(1 - \\frac{1}{3} + \\frac{1}{5} - \\frac{1}{7} + \\cdots\\right)\n",
    "$$\n",
    "\n",
    "Esta fórmula converge lentamente, pero es útil para entender cómo se puede aproximar un número irracional como $\\pi$ mediante una suma finita.\n",
    "\n",
    "**Tu tarea**\n",
    "\n",
    "Implementa una **función llamada `calcular_pi(n)`** que reciba como argumento un número entero $n$ e **importe los primeros $n$ términos de la serie** para entregar una aproximación del valor de $\\pi$.\n",
    "\n",
    "\n",
    "\n",
    "\n",
    "\n",
    "**Ejemplos de uso**\n",
    "\n",
    "```python\n",
    "calcular_pi(3)     # Resultado esperado: 3.466666...\n",
    "calcular_pi(1000)  # Resultado esperado: ~3.140592...\n",
    "```\n",
    "\n"
   ]
  },
  {
   "cell_type": "code",
   "execution_count": 11,
   "id": "dd54e855",
   "metadata": {
    "colab": {
     "base_uri": "https://localhost:8080/"
    },
    "id": "dd54e855",
    "outputId": "89e69fe7-a239-4d4b-8cea-907bb1db13de"
   },
   "outputs": [
    {
     "data": {
      "text/plain": [
       "3.466666666666667"
      ]
     },
     "execution_count": 11,
     "metadata": {},
     "output_type": "execute_result"
    }
   ],
   "source": [
    "# FIXME\n",
    "def calcular_pi(iter):\n",
    "  cont = 1\n",
    "  fin = 0\n",
    "  while cont <= iter:\n",
    "    fin = fin + ((-1)**(cont + 1)/(2*cont-1))\n",
    "    cont += 1\n",
    "  return 4*fin\n",
    "print(\"resultado:\")\n"
   ]
  },
  {
   "cell_type": "markdown",
   "id": "c26be634",
   "metadata": {
    "id": "c26be634"
   },
   "source": [
    "\n",
    "## Problema 02 — Aproximando $e$ con la serie de Euler\n",
    "\n",
    "El número **$e$** es una constante matemática fundamental, al igual que $\\pi$. Se encuentra en el corazón del cálculo, el crecimiento exponencial y muchas aplicaciones científicas. Uno de sus grandes impulsores fue **Leonhard Euler**, quien en 1748 publicó su obra *Introductio in analysin infinitorum*, donde describió formalmente la siguiente serie infinita para aproximar su valor:\n",
    "\n",
    "$$\n",
    "e = \\sum_{k=0}^{\\infty} \\frac{1}{k!} = 1 + \\frac{1}{1!} + \\frac{1}{2!} + \\frac{1}{3!} + \\cdots\n",
    "$$\n",
    "\n",
    "Esta fórmula permite calcular $e$ sumando una cantidad finita de términos.\n",
    "\n",
    "\n",
    "\n",
    "**Tu tarea**\n",
    "\n",
    "1. **Parte A**: Define una función llamada `factorial(n)` que reciba un número natural $n$ y retorne el valor de su factorial $n! = 1 \\cdot 2 \\cdot \\ldots \\cdot n$.\n",
    "\n",
    "2. **Parte B**: Usando esa función, crea otra función llamada `calcular_e(n)` que reciba un número entero $n$ y devuelva una aproximación del número $e$ sumando los primeros $n$ términos de la serie.\n",
    "\n",
    "\n",
    "\n",
    "**Ejemplos de uso**\n",
    "\n",
    "```python\n",
    "factorial(3)     # Resultado esperado: 6\n",
    "factorial(5)     # Resultado esperado: 120\n",
    "\n",
    "calcular_e(3)     # Resultado esperado: 2.666...\n",
    "calcular_e(1000)  # Resultado esperado: ~2.718281828...\n",
    "```\n",
    "\n"
   ]
  },
  {
   "cell_type": "code",
   "execution_count": 17,
   "id": "706d4c0a",
   "metadata": {
    "colab": {
     "base_uri": "https://localhost:8080/"
    },
    "id": "706d4c0a",
    "outputId": "c08b0920-56be-4c50-8917-34a253c9f42d"
   },
   "outputs": [
    {
     "data": {
      "text/plain": [
       "2.7182818284590455"
      ]
     },
     "execution_count": 17,
     "metadata": {},
     "output_type": "execute_result"
    }
   ],
   "source": [
    "# FIXME\n",
    "def factorial(num):\n",
    "  fac = 1\n",
    "  cont = 1\n",
    "  while cont <= num:\n",
    "    fac = fac*cont\n",
    "    cont += 1\n",
    "  return(fac)\n",
    "#para calcular e\n",
    "def calcular_e(iter):\n",
    "  res = 0\n",
    "  cont = 0\n",
    "  while cont <= iter:\n",
    "    res = res + (1/factorial(cont))\n",
    "    cont += 1\n",
    "  return res\n"
   ]
  },
  {
   "cell_type": "markdown",
   "id": "9707be93",
   "metadata": {
    "id": "9707be93"
   },
   "source": [
    "## Problema 03 — Números amigos y suma de divisores propios\n",
    "\n",
    "Dado un número natural $n$, se define $\\sigma(n)$ como la **suma de sus divisores propios**, es decir, aquellos números positivos menores que $n$ que lo dividen exactamente.\n",
    "\n",
    "Dos números naturales $n_1$ y $n_2$ se consideran **números amigos** si cumplen la siguiente condición:\n",
    "\n",
    "$$\n",
    "\\sigma(n_1) = n_2 \\quad \\text{y} \\quad \\sigma(n_2) = n_1\n",
    "$$\n",
    "\n",
    "Un ejemplo clásico de números amigos es el par $220$ y $284$:\n",
    "\n",
    "* Los divisores propios de $220$ son: $1, 2, 4, 5, 10, 11, 20, 22, 44, 55, 110$, y su suma es $284$.\n",
    "* Los divisores propios de $284$ son: $1, 2, 4, 71, 142$, y su suma es $220$.\n",
    "\n",
    "**Tu tarea**\n",
    "\n",
    "1. **Parte A**: Define una función llamada `divisores_propios(n)` que reciba un número natural $n$ y retorne una **lista** con todos sus divisores propios.\n",
    "\n",
    "2. **Parte B**: Usando esa función, implementa una función llamada `amigos(n1, n2)` que retorne `True` si los números son amigos y `False` en caso contrario.\n",
    "\n",
    "**Ejemplos de uso**\n",
    "\n",
    "```python\n",
    "divisores_propios(220)  # Resultado esperado: [1, 2, 4, 5, 10, 11, 20, 22, 44, 55, 110]\n",
    "divisores_propios(284)  # Resultado esperado: [1, 2, 4, 71, 142]\n",
    "\n",
    "amigos(220, 284)        # Resultado esperado: True\n",
    "amigos(6, 5)            # Resultado esperado: False\n",
    "```\n"
   ]
  },
  {
   "cell_type": "code",
   "execution_count": 34,
   "id": "e695ea21",
   "metadata": {
    "colab": {
     "base_uri": "https://localhost:8080/"
    },
    "id": "e695ea21",
    "outputId": "6de55bdf-7c5e-44ba-fdfc-f39751b90465"
   },
   "outputs": [
    {
     "data": {
      "text/plain": [
       "True"
      ]
     },
     "execution_count": 34,
     "metadata": {},
     "output_type": "execute_result"
    }
   ],
   "source": [
    "from pickle import FALSE\n",
    "# FIXME\n",
    "def divisores_propios(num):\n",
    "  lista_prim = []\n",
    "  cont1 = 1\n",
    "  lista_prim.append(cont1)\n",
    "  cont1 += 1\n",
    "  cont2 = 1\n",
    "  while cont1 <= (num/2):\n",
    "    while (cont1*cont2) < num:\n",
    "      cont2 += 1\n",
    "    if (num - (cont1*cont2)) == 0:\n",
    "      lista_prim.append(cont1)\n",
    "    cont1 += 1\n",
    "    cont2 = 1\n",
    "  return lista_prim\n",
    "#lo de los amigos\n",
    "def amigos(num1,num2):\n",
    "  cond = False\n",
    "  lista1 = divisores_propios(num1)\n",
    "  lista2 = divisores_propios(num2)\n",
    "  sum1 = 0\n",
    "  cont1 = 0\n",
    "  sum2 = 0\n",
    "  cont2 = 0\n",
    "  while cont1 < len(lista1):\n",
    "    sum1 = sum1 + lista1[cont1]\n",
    "    cont1 += 1\n",
    "  while cont2 < len(lista2):\n",
    "    sum2 = sum2 + lista2[cont2]\n",
    "    cont2 += 1\n",
    "  if sum1 == num2:\n",
    "    if sum2 == num1:\n",
    "      cond = True\n",
    "  return cond\n"
   ]
  },
  {
   "cell_type": "markdown",
   "id": "cf93a039",
   "metadata": {
    "id": "cf93a039"
   },
   "source": [
    "## Problema 04 — La conjetura de Collatz\n",
    "\n",
    "La [conjetura de Collatz](https://en.wikipedia.org/wiki/Collatz_conjecture), también conocida como **conjetura $3n + 1$** o conjetura de Ulam, fue formulada por el matemático **Lothar Collatz** en 1937. A pesar de su sencillez, aún no ha sido demostrada ni refutada para todos los números naturales.\n",
    "\n",
    "La conjetura propone la siguiente regla, aplicable a cualquier número entero positivo:\n",
    "\n",
    "* Si el número es **par**, se divide por 2.\n",
    "* Si el número es **impar**, se multiplica por 3 y se le suma 1.\n",
    "\n",
    "Se repite esta operación con cada nuevo número obtenido. La conjetura afirma que, sin importar el número con el que se comience, **eventualmente se alcanzará el número 1**.\n",
    "\n",
    "**Tu tarea**\n",
    "\n",
    "Implementa una función llamada `collatz(n)` que reciba como argumento un número natural positivo $n$ y retorne una **lista con la secuencia de valores** generados por la conjetura, hasta llegar a 1.\n",
    "\n",
    "**Ejemplo de uso**\n",
    "\n",
    "```python\n",
    "collatz(9)  \n",
    "# Resultado esperado:\n",
    "# [9, 28, 14, 7, 22, 11, 34, 17, 52, 26, 13, 40, 20, 10, 5, 16, 8, 4, 2, 1]\n",
    "```\n",
    "\n"
   ]
  },
  {
   "cell_type": "code",
   "execution_count": 20,
   "id": "10501a00",
   "metadata": {
    "colab": {
     "base_uri": "https://localhost:8080/"
    },
    "id": "10501a00",
    "outputId": "d3dfeab9-86cf-4948-a4fb-a22aee3c176c"
   },
   "outputs": [
    {
     "data": {
      "text/plain": [
       "[9, 28, 14, 7, 22, 11, 34, 17, 52, 26, 13, 40, 20, 10, 5, 16, 8, 4, 2, 1]"
      ]
     },
     "execution_count": 20,
     "metadata": {},
     "output_type": "execute_result"
    }
   ],
   "source": [
    "# FIXME\n",
    "def collatz(num):\n",
    "  dat = int(num)\n",
    "  listita = []\n",
    "  listita.append(dat)\n",
    "  while dat != 1:\n",
    "    if dat%2 == 0:\n",
    "      dat = dat/2\n",
    "    else:\n",
    "      dat = dat*3 +1\n",
    "    listita.append(int(dat))\n",
    "  return listita\n",
    "collatz(9)"
   ]
  },
  {
   "cell_type": "markdown",
   "id": "d15af4eb",
   "metadata": {
    "id": "d15af4eb"
   },
   "source": [
    "## Problema 05 — La conjetura de Goldbach\n",
    "\n",
    "La [conjetura de Goldbach](https://en.wikipedia.org/wiki/Goldbach%27s_conjecture) es uno de los problemas abiertos más antiguos y famosos de la teoría de números. Fue formulada por el matemático prusiano **Christian Goldbach** en una carta a Euler en 1742, y plantea lo siguiente:\n",
    "\n",
    "> **Todo número par mayor que 2 puede escribirse como la suma de dos números primos.**\n",
    "\n",
    "A pesar de que esta conjetura ha sido verificada para una gran cantidad de números, aún no existe una demostración formal que la confirme para todos los casos posibles.\n",
    "\n",
    "**Tu tarea**\n",
    "\n",
    "Implementa una función llamada `goldbach(n)` que reciba un número natural par mayor que 2 y retorne un par de números primos $n_1$ y $n_2$ tales que $n_1 + n_2 = n$.\n",
    "\n",
    "Para lograrlo, se recomienda dividir el problema en tres partes:\n",
    "\n",
    "1. **Parte A**: Define una función `es_primo(n)` que reciba un número natural $n$ y retorne `True` si es primo, y `False` en caso contrario.\n",
    "\n",
    "2. **Parte B**: Define una función `lista_de_primos(n)` que genere una lista con todos los números primos entre 2 y $n$ (inclusive si corresponde).\n",
    "\n",
    "3. **Parte C**: Utiliza la función anterior dentro de `goldbach(n)` para encontrar dos primos cuya suma sea igual a $n$. Puedes retornar el primer par que cumpla esta condición.\n",
    "\n",
    "**Ejemplos de uso**\n",
    "\n",
    "```python\n",
    "es_primo(3)         # Resultado esperado: True\n",
    "es_primo(4)         # Resultado esperado: False\n",
    "\n",
    "lista_de_primos(4)  # Resultado esperado: [2, 3]\n",
    "lista_de_primos(6)  # Resultado esperado: [2, 3, 5]\n",
    "lista_de_primos(8)  # Resultado esperado: [2, 3, 5, 7]\n",
    "\n",
    "goldbach(4)         # Resultado esperado: (2, 2)\n",
    "goldbach(6)         # Resultado esperado: (3, 3)\n",
    "goldbach(8)         # Resultado esperado: (3, 5)\n",
    "```\n",
    "\n",
    "\n"
   ]
  },
  {
   "cell_type": "code",
   "execution_count": 81,
   "id": "cccb4ae0",
   "metadata": {
    "id": "cccb4ae0"
   },
   "outputs": [],
   "source": [
    "# FIXME\n",
    "def es_primo(num):\n",
    "  cond = True\n",
    "  cont = 2\n",
    "  div = 0\n",
    "  while cont <= (num/2):\n",
    "    div = num/cont\n",
    "    div = div - int(div)\n",
    "    if div == 0:\n",
    "      cond = False\n",
    "    cont += 1\n",
    "  return cond\n",
    "\n",
    "def lista_de_primos(num):\n",
    "  cont = 2\n",
    "  lista_prim = []\n",
    "  while cont < num:\n",
    "    if es_primo(cont) == True:\n",
    "      lista_prim.append(int(cont))\n",
    "    cont += 1\n",
    "  return lista_prim\n",
    "\n",
    "def goldbach(num):\n",
    "  if es_primo(num) == True:\n",
    "    print(\"el numero ingresado es primo\")\n",
    "    return\n",
    "  if num%2 != 0:\n",
    "    print(\"el numero ingresado no es par\")\n",
    "    return\n",
    "  new = lista_de_primos(num)\n",
    "  pos1 = 0\n",
    "  pos2 = 0\n",
    "  while pos1 <= len(new):\n",
    "    while pos2 <= len(new):\n",
    "      if (new[pos1-1] + new[pos2-1]) == num:\n",
    "        n1 = pos1-1\n",
    "        n2 = pos2-1\n",
    "        break\n",
    "      pos2 += 1\n",
    "    pos1 += 1\n",
    "    pos2 = 0\n",
    "  print(new[n2],new[n1])"
   ]
  }
 ],
 "metadata": {
  "colab": {
   "provenance": []
  },
  "kernelspec": {
   "display_name": "Python 3 (ipykernel)",
   "language": "python",
   "name": "python3"
  },
  "language_info": {
   "codemirror_mode": {
    "name": "ipython",
    "version": 3
   },
   "file_extension": ".py",
   "mimetype": "text/x-python",
   "name": "python",
   "nbconvert_exporter": "python",
   "pygments_lexer": "ipython3",
   "version": "3.12.3"
  }
 },
 "nbformat": 4,
 "nbformat_minor": 5
}
